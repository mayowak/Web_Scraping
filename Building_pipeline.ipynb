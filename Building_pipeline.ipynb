{
 "cells": [
  {
   "cell_type": "code",
   "execution_count": 60,
   "metadata": {},
   "outputs": [],
   "source": [
    "#import dependecies\n",
    "import requests\n",
    "from bs4 import BeautifulSoup\n",
    "from pandas import DataFrame"
   ]
  },
  {
   "cell_type": "code",
   "execution_count": 40,
   "metadata": {},
   "outputs": [],
   "source": [
    "url = \"https://ng.indeed.com/jobs?q=data+analyst&l=Lagos&start=\""
   ]
  },
  {
   "cell_type": "code",
   "execution_count": 55,
   "metadata": {},
   "outputs": [
    {
     "name": "stdout",
     "output_type": "stream",
     "text": [
      "['Data Analyst', 'Data Analyst', 'Business Intelligence/Data Warehouse analyst', 'Data Analyst', 'Data Analyst, Global Analytics - Nigeria', 'Data Collection Officer', 'Data Analyst - Damult Solutions', 'Business analyst', 'DATA ANALYST', 'Financial Analyst', 'Business Intelligence Analyst', 'Market Analyst', 'Sales Support Executive / Data Analyst', 'Business Intelligence Analyst', 'Apprentice Data Technician']\n",
      "['Portfolio Analyst', 'Junior Data Analyst at Flutterwave', 'Data Analyst', 'Trainer & Quality Analyst', 'Geographic Information Systems (GIS) Analyst', 'Business Intelligence Analyst Intern Recruitment at Cornerst...', 'Graduate Analyst, Business Development and Growth Hacking', 'Sales Analyst', 'Full Stack Developer', 'Quality Operations Manager', 'SENIOR DECISION SUPPORT ANALYST', 'Finance Analyst', 'Site/Project Analyst', 'Data Analyst at \\u200bChiji14xchange', 'Team Lead, Customer Experience']\n",
      "['Portfolio Analyst', 'Junior Data Analyst at Flutterwave', 'Data Analyst', 'Trainer & Quality Analyst', 'Geographic Information Systems (GIS) Analyst', 'Business Intelligence Analyst Intern Recruitment at Cornerst...', 'Graduate Analyst, Business Development and Growth Hacking', 'Sales Analyst', 'Full Stack Developer', 'Quality Operations Manager', 'SENIOR DECISION SUPPORT ANALYST', 'Finance Analyst', 'Site/Project Analyst', 'Data Analyst at \\u200bChiji14xchange', 'Team Lead, Customer Experience']\n",
      "['Business Intelligence Analyst', 'Market Analyst', 'Sales Support Executive / Data Analyst', 'Business Intelligence Analyst', 'Apprentice Data Technician', 'Portfolio Analyst', 'Junior Data Analyst at Flutterwave', 'Data Analyst', 'Trainer & Quality Analyst', 'Geographic Information Systems (GIS) Analyst']\n",
      "['Portfolio Analyst', 'Junior Data Analyst at Flutterwave', 'Data Analyst', 'Trainer & Quality Analyst', 'Geographic Information Systems (GIS) Analyst', 'Business Intelligence Analyst Intern Recruitment at Cornerst...', 'Graduate Analyst, Business Development and Growth Hacking', 'Sales Analyst', 'Full Stack Developer', 'Quality Operations Manager', 'SENIOR DECISION SUPPORT ANALYST', 'Finance Analyst', 'Site/Project Analyst', 'Data Analyst at \\u200bChiji14xchange', 'Team Lead, Customer Experience']\n",
      "['Portfolio Analyst', 'Junior Data Analyst at Flutterwave', 'Data Analyst', 'Trainer & Quality Analyst', 'Geographic Information Systems (GIS) Analyst', 'Business Intelligence Analyst Intern Recruitment at Cornerst...', 'Graduate Analyst, Business Development and Growth Hacking', 'Sales Analyst', 'Full Stack Developer', 'Quality Operations Manager', 'SENIOR DECISION SUPPORT ANALYST', 'Finance Analyst', 'Site/Project Analyst', 'Data Analyst at \\u200bChiji14xchange', 'Team Lead, Customer Experience']\n",
      "['Portfolio Analyst', 'Junior Data Analyst at Flutterwave', 'Data Analyst', 'Trainer & Quality Analyst', 'Geographic Information Systems (GIS) Analyst', 'Business Intelligence Analyst Intern Recruitment at Cornerst...', 'Graduate Analyst, Business Development and Growth Hacking', 'Sales Analyst', 'Full Stack Developer', 'Quality Operations Manager', 'SENIOR DECISION SUPPORT ANALYST', 'Finance Analyst', 'Site/Project Analyst', 'Data Analyst at \\u200bChiji14xchange', 'Team Lead, Customer Experience']\n",
      "['Business Intelligence Analyst', 'Market Analyst', 'Sales Support Executive / Data Analyst', 'Business Intelligence Analyst', 'Apprentice Data Technician', 'Portfolio Analyst', 'Junior Data Analyst at Flutterwave', 'Data Analyst', 'Trainer & Quality Analyst', 'Geographic Information Systems (GIS) Analyst']\n"
     ]
    }
   ],
   "source": [
    "for start in range(8):\n",
    "    response = requests.get(url + str(start))\n",
    "    soup = BeautifulSoup(response.content)\n",
    "    results = soup.find(id='resultsCol')\n",
    "    jobs = results.find_all('div', class_='result')\n",
    "    jobs = results.find_all('div', class_='row')\n",
    "    job_titles = [job.find('h2').find('a').text.strip() for job in jobs]\n",
    "    print(job_titles)"
   ]
  },
  {
   "cell_type": "code",
   "execution_count": 42,
   "metadata": {},
   "outputs": [
    {
     "data": {
      "text/plain": [
       "list"
      ]
     },
     "execution_count": 42,
     "metadata": {},
     "output_type": "execute_result"
    }
   ],
   "source": [
    "type(job_titles)"
   ]
  },
  {
   "cell_type": "code",
   "execution_count": 64,
   "metadata": {},
   "outputs": [
    {
     "data": {
      "text/html": [
       "<div>\n",
       "<style scoped>\n",
       "    .dataframe tbody tr th:only-of-type {\n",
       "        vertical-align: middle;\n",
       "    }\n",
       "\n",
       "    .dataframe tbody tr th {\n",
       "        vertical-align: top;\n",
       "    }\n",
       "\n",
       "    .dataframe thead th {\n",
       "        text-align: right;\n",
       "    }\n",
       "</style>\n",
       "<table border=\"1\" class=\"dataframe\">\n",
       "  <thead>\n",
       "    <tr style=\"text-align: right;\">\n",
       "      <th></th>\n",
       "      <th>job_titles</th>\n",
       "    </tr>\n",
       "  </thead>\n",
       "  <tbody>\n",
       "    <tr>\n",
       "      <th>0</th>\n",
       "      <td>Business Intelligence Analyst</td>\n",
       "    </tr>\n",
       "    <tr>\n",
       "      <th>1</th>\n",
       "      <td>Market Analyst</td>\n",
       "    </tr>\n",
       "    <tr>\n",
       "      <th>2</th>\n",
       "      <td>Sales Support Executive / Data Analyst</td>\n",
       "    </tr>\n",
       "    <tr>\n",
       "      <th>3</th>\n",
       "      <td>Business Intelligence Analyst</td>\n",
       "    </tr>\n",
       "    <tr>\n",
       "      <th>4</th>\n",
       "      <td>Apprentice Data Technician</td>\n",
       "    </tr>\n",
       "    <tr>\n",
       "      <th>5</th>\n",
       "      <td>Portfolio Analyst</td>\n",
       "    </tr>\n",
       "    <tr>\n",
       "      <th>6</th>\n",
       "      <td>Junior Data Analyst at Flutterwave</td>\n",
       "    </tr>\n",
       "    <tr>\n",
       "      <th>7</th>\n",
       "      <td>Data Analyst</td>\n",
       "    </tr>\n",
       "    <tr>\n",
       "      <th>8</th>\n",
       "      <td>Trainer &amp; Quality Analyst</td>\n",
       "    </tr>\n",
       "    <tr>\n",
       "      <th>9</th>\n",
       "      <td>Geographic Information Systems (GIS) Analyst</td>\n",
       "    </tr>\n",
       "  </tbody>\n",
       "</table>\n",
       "</div>"
      ],
      "text/plain": [
       "                                     job_titles\n",
       "0                 Business Intelligence Analyst\n",
       "1                                Market Analyst\n",
       "2        Sales Support Executive / Data Analyst\n",
       "3                 Business Intelligence Analyst\n",
       "4                    Apprentice Data Technician\n",
       "5                             Portfolio Analyst\n",
       "6            Junior Data Analyst at Flutterwave\n",
       "7                                  Data Analyst\n",
       "8                     Trainer & Quality Analyst\n",
       "9  Geographic Information Systems (GIS) Analyst"
      ]
     },
     "execution_count": 64,
     "metadata": {},
     "output_type": "execute_result"
    }
   ],
   "source": [
    "df = DataFrame(job_titles, columns=['job_titles'])\n",
    "df.head(10)"
   ]
  },
  {
   "cell_type": "code",
   "execution_count": 65,
   "metadata": {},
   "outputs": [],
   "source": [
    "df.to_csv('job_titles.csv')"
   ]
  }
 ],
 "metadata": {
  "kernelspec": {
   "display_name": "Python 3",
   "language": "python",
   "name": "python3"
  },
  "language_info": {
   "codemirror_mode": {
    "name": "ipython",
    "version": 3
   },
   "file_extension": ".py",
   "mimetype": "text/x-python",
   "name": "python",
   "nbconvert_exporter": "python",
   "pygments_lexer": "ipython3",
   "version": "3.7.6"
  }
 },
 "nbformat": 4,
 "nbformat_minor": 4
}
